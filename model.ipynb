{
 "cells": [
  {
   "cell_type": "markdown",
   "metadata": {},
   "source": [
    "Idea: Sentiment analysis on product review"
   ]
  },
  {
   "cell_type": "code",
   "execution_count": 317,
   "metadata": {},
   "outputs": [
    {
     "data": {
      "text/plain": [
       "'\\nWorkflow\\n1) import required libraries\\n2) load the dataset & understand data\\n3) Data Manipulation: text preprocessing for tfidf, text preprocessing for word2vec, combining required col\\n4) ML models: applying tfidf, using logistic regression, naive bayes, Support Vector Classifier\\n5) DL model: applying word2vec, using logistic regression, Support Vector Classifier\\n'"
      ]
     },
     "execution_count": 317,
     "metadata": {},
     "output_type": "execute_result"
    }
   ],
   "source": [
    "\"\"\"\n",
    "Workflow\n",
    "1) import required libraries\n",
    "2) load the dataset & understand data\n",
    "3) Data Manipulation: text preprocessing for tfidf, text preprocessing for word2vec, combining required col\n",
    "4) ML models: applying tfidf, using logistic regression, naive bayes, Support Vector Classifier\n",
    "5) DL model: applying word2vec, using logistic regression, Support Vector Classifier\n",
    "\"\"\""
   ]
  },
  {
   "cell_type": "markdown",
   "metadata": {},
   "source": [
    "1) Import required libraries"
   ]
  },
  {
   "cell_type": "code",
   "execution_count": 300,
   "metadata": {},
   "outputs": [
    {
     "name": "stderr",
     "output_type": "stream",
     "text": [
      "[nltk_data] Downloading package stopwords to\n",
      "[nltk_data]     C:\\Users\\shiva\\AppData\\Roaming\\nltk_data...\n",
      "[nltk_data]   Package stopwords is already up-to-date!\n",
      "[nltk_data] Downloading package wordnet to\n",
      "[nltk_data]     C:\\Users\\shiva\\AppData\\Roaming\\nltk_data...\n",
      "[nltk_data]   Package wordnet is already up-to-date!\n",
      "[nltk_data] Downloading package punkt_tab to\n",
      "[nltk_data]     C:\\Users\\shiva\\AppData\\Roaming\\nltk_data...\n",
      "[nltk_data]   Package punkt_tab is already up-to-date!\n",
      "[nltk_data] Downloading package words to\n",
      "[nltk_data]     C:\\Users\\shiva\\AppData\\Roaming\\nltk_data...\n",
      "[nltk_data]   Package words is already up-to-date!\n"
     ]
    }
   ],
   "source": [
    "import numpy as np\n",
    "import pandas as pd\n",
    "import matplotlib.pyplot as plt\n",
    "import seaborn as sns\n",
    "\n",
    "import nltk\n",
    "from nltk.corpus import stopwords, words\n",
    "from nltk.tokenize import word_tokenize\n",
    "from nltk.stem import WordNetLemmatizer\n",
    "nltk.download('stopwords')\n",
    "nltk.download('wordnet')\n",
    "nltk.download('punkt_tab')\n",
    "nltk.download('words')\n",
    "\n",
    "from sklearn.model_selection import train_test_split, GridSearchCV\n",
    "from sklearn.preprocessing import MinMaxScaler, MaxAbsScaler\n",
    "from sklearn.feature_extraction.text import TfidfVectorizer\n",
    "from sklearn.naive_bayes import MultinomialNB\n",
    "from sklearn.linear_model import LogisticRegression\n",
    "from sklearn.svm import SVC\n",
    "from sklearn.metrics import accuracy_score, classification_report, confusion_matrix\n",
    "\n",
    "from gensim.models import Word2Vec\n",
    "import gensim.downloader as api\n",
    "from scipy.sparse import hstack"
   ]
  },
  {
   "cell_type": "markdown",
   "metadata": {},
   "source": [
    "2) load and understand the dataset"
   ]
  },
  {
   "cell_type": "code",
   "execution_count": 301,
   "metadata": {},
   "outputs": [
    {
     "name": "stdout",
     "output_type": "stream",
     "text": [
      "these are the features:  Index(['product_id', 'product_name', 'category', 'discounted_price',\n",
      "       'actual_price', 'discount_percentage', 'rating', 'rating_count',\n",
      "       'about_product', 'user_id', 'user_name', 'review_id', 'review_title',\n",
      "       'review_content', 'img_link', 'product_link'],\n",
      "      dtype='object')\n",
      "this is the shape of the model:  (1465, 16)\n"
     ]
    },
    {
     "data": {
      "text/html": [
       "<div>\n",
       "<style scoped>\n",
       "    .dataframe tbody tr th:only-of-type {\n",
       "        vertical-align: middle;\n",
       "    }\n",
       "\n",
       "    .dataframe tbody tr th {\n",
       "        vertical-align: top;\n",
       "    }\n",
       "\n",
       "    .dataframe thead th {\n",
       "        text-align: right;\n",
       "    }\n",
       "</style>\n",
       "<table border=\"1\" class=\"dataframe\">\n",
       "  <thead>\n",
       "    <tr style=\"text-align: right;\">\n",
       "      <th></th>\n",
       "      <th>product_id</th>\n",
       "      <th>product_name</th>\n",
       "      <th>category</th>\n",
       "      <th>discounted_price</th>\n",
       "      <th>actual_price</th>\n",
       "      <th>discount_percentage</th>\n",
       "      <th>rating</th>\n",
       "      <th>rating_count</th>\n",
       "      <th>about_product</th>\n",
       "      <th>user_id</th>\n",
       "      <th>user_name</th>\n",
       "      <th>review_id</th>\n",
       "      <th>review_title</th>\n",
       "      <th>review_content</th>\n",
       "      <th>img_link</th>\n",
       "      <th>product_link</th>\n",
       "    </tr>\n",
       "  </thead>\n",
       "  <tbody>\n",
       "    <tr>\n",
       "      <th>0</th>\n",
       "      <td>B07JW9H4J1</td>\n",
       "      <td>Wayona Nylon Braided USB to Lightning Fast Cha...</td>\n",
       "      <td>Computers&amp;Accessories|Accessories&amp;Peripherals|...</td>\n",
       "      <td>₹399</td>\n",
       "      <td>₹1,099</td>\n",
       "      <td>64%</td>\n",
       "      <td>4.2</td>\n",
       "      <td>24,269</td>\n",
       "      <td>High Compatibility : Compatible With iPhone 12...</td>\n",
       "      <td>AG3D6O4STAQKAY2UVGEUV46KN35Q,AHMY5CWJMMK5BJRBB...</td>\n",
       "      <td>Manav,Adarsh gupta,Sundeep,S.Sayeed Ahmed,jasp...</td>\n",
       "      <td>R3HXWT0LRP0NMF,R2AJM3LFTLZHFO,R6AQJGUP6P86,R1K...</td>\n",
       "      <td>Satisfied,Charging is really fast,Value for mo...</td>\n",
       "      <td>Looks durable Charging is fine tooNo complains...</td>\n",
       "      <td>https://m.media-amazon.com/images/W/WEBP_40237...</td>\n",
       "      <td>https://www.amazon.in/Wayona-Braided-WN3LG1-Sy...</td>\n",
       "    </tr>\n",
       "    <tr>\n",
       "      <th>1</th>\n",
       "      <td>B098NS6PVG</td>\n",
       "      <td>Ambrane Unbreakable 60W / 3A Fast Charging 1.5...</td>\n",
       "      <td>Computers&amp;Accessories|Accessories&amp;Peripherals|...</td>\n",
       "      <td>₹199</td>\n",
       "      <td>₹349</td>\n",
       "      <td>43%</td>\n",
       "      <td>4.0</td>\n",
       "      <td>43,994</td>\n",
       "      <td>Compatible with all Type C enabled devices, be...</td>\n",
       "      <td>AECPFYFQVRUWC3KGNLJIOREFP5LQ,AGYYVPDD7YG7FYNBX...</td>\n",
       "      <td>ArdKn,Nirbhay kumar,Sagar Viswanathan,Asp,Plac...</td>\n",
       "      <td>RGIQEG07R9HS2,R1SMWZQ86XIN8U,R2J3Y1WL29GWDE,RY...</td>\n",
       "      <td>A Good Braided Cable for Your Type C Device,Go...</td>\n",
       "      <td>I ordered this cable to connect my phone to An...</td>\n",
       "      <td>https://m.media-amazon.com/images/W/WEBP_40237...</td>\n",
       "      <td>https://www.amazon.in/Ambrane-Unbreakable-Char...</td>\n",
       "    </tr>\n",
       "    <tr>\n",
       "      <th>2</th>\n",
       "      <td>B096MSW6CT</td>\n",
       "      <td>Sounce Fast Phone Charging Cable &amp; Data Sync U...</td>\n",
       "      <td>Computers&amp;Accessories|Accessories&amp;Peripherals|...</td>\n",
       "      <td>₹199</td>\n",
       "      <td>₹1,899</td>\n",
       "      <td>90%</td>\n",
       "      <td>3.9</td>\n",
       "      <td>7,928</td>\n",
       "      <td>【 Fast Charger&amp; Data Sync】-With built-in safet...</td>\n",
       "      <td>AGU3BBQ2V2DDAMOAKGFAWDDQ6QHA,AESFLDV2PT363T2AQ...</td>\n",
       "      <td>Kunal,Himanshu,viswanath,sai niharka,saqib mal...</td>\n",
       "      <td>R3J3EQQ9TZI5ZJ,R3E7WBGK7ID0KV,RWU79XKQ6I1QF,R2...</td>\n",
       "      <td>Good speed for earlier versions,Good Product,W...</td>\n",
       "      <td>Not quite durable and sturdy,https://m.media-a...</td>\n",
       "      <td>https://m.media-amazon.com/images/W/WEBP_40237...</td>\n",
       "      <td>https://www.amazon.in/Sounce-iPhone-Charging-C...</td>\n",
       "    </tr>\n",
       "    <tr>\n",
       "      <th>3</th>\n",
       "      <td>B08HDJ86NZ</td>\n",
       "      <td>boAt Deuce USB 300 2 in 1 Type-C &amp; Micro USB S...</td>\n",
       "      <td>Computers&amp;Accessories|Accessories&amp;Peripherals|...</td>\n",
       "      <td>₹329</td>\n",
       "      <td>₹699</td>\n",
       "      <td>53%</td>\n",
       "      <td>4.2</td>\n",
       "      <td>94,363</td>\n",
       "      <td>The boAt Deuce USB 300 2 in 1 cable is compati...</td>\n",
       "      <td>AEWAZDZZJLQUYVOVGBEUKSLXHQ5A,AG5HTSFRRE6NL3M5S...</td>\n",
       "      <td>Omkar dhale,JD,HEMALATHA,Ajwadh a.,amar singh ...</td>\n",
       "      <td>R3EEUZKKK9J36I,R3HJVYCLYOY554,REDECAZ7AMPQC,R1...</td>\n",
       "      <td>Good product,Good one,Nice,Really nice product...</td>\n",
       "      <td>Good product,long wire,Charges good,Nice,I bou...</td>\n",
       "      <td>https://m.media-amazon.com/images/I/41V5FtEWPk...</td>\n",
       "      <td>https://www.amazon.in/Deuce-300-Resistant-Tang...</td>\n",
       "    </tr>\n",
       "    <tr>\n",
       "      <th>4</th>\n",
       "      <td>B08CF3B7N1</td>\n",
       "      <td>Portronics Konnect L 1.2M Fast Charging 3A 8 P...</td>\n",
       "      <td>Computers&amp;Accessories|Accessories&amp;Peripherals|...</td>\n",
       "      <td>₹154</td>\n",
       "      <td>₹399</td>\n",
       "      <td>61%</td>\n",
       "      <td>4.2</td>\n",
       "      <td>16,905</td>\n",
       "      <td>[CHARGE &amp; SYNC FUNCTION]- This cable comes wit...</td>\n",
       "      <td>AE3Q6KSUK5P75D5HFYHCRAOLODSA,AFUGIFH5ZAFXRDSZH...</td>\n",
       "      <td>rahuls6099,Swasat Borah,Ajay Wadke,Pranali,RVK...</td>\n",
       "      <td>R1BP4L2HH9TFUP,R16PVJEXKV6QZS,R2UPDB81N66T4P,R...</td>\n",
       "      <td>As good as original,Decent,Good one for second...</td>\n",
       "      <td>Bought this instead of original apple, does th...</td>\n",
       "      <td>https://m.media-amazon.com/images/W/WEBP_40237...</td>\n",
       "      <td>https://www.amazon.in/Portronics-Konnect-POR-1...</td>\n",
       "    </tr>\n",
       "  </tbody>\n",
       "</table>\n",
       "</div>"
      ],
      "text/plain": [
       "   product_id                                       product_name  \\\n",
       "0  B07JW9H4J1  Wayona Nylon Braided USB to Lightning Fast Cha...   \n",
       "1  B098NS6PVG  Ambrane Unbreakable 60W / 3A Fast Charging 1.5...   \n",
       "2  B096MSW6CT  Sounce Fast Phone Charging Cable & Data Sync U...   \n",
       "3  B08HDJ86NZ  boAt Deuce USB 300 2 in 1 Type-C & Micro USB S...   \n",
       "4  B08CF3B7N1  Portronics Konnect L 1.2M Fast Charging 3A 8 P...   \n",
       "\n",
       "                                            category discounted_price  \\\n",
       "0  Computers&Accessories|Accessories&Peripherals|...             ₹399   \n",
       "1  Computers&Accessories|Accessories&Peripherals|...             ₹199   \n",
       "2  Computers&Accessories|Accessories&Peripherals|...             ₹199   \n",
       "3  Computers&Accessories|Accessories&Peripherals|...             ₹329   \n",
       "4  Computers&Accessories|Accessories&Peripherals|...             ₹154   \n",
       "\n",
       "  actual_price discount_percentage rating rating_count  \\\n",
       "0       ₹1,099                 64%    4.2       24,269   \n",
       "1         ₹349                 43%    4.0       43,994   \n",
       "2       ₹1,899                 90%    3.9        7,928   \n",
       "3         ₹699                 53%    4.2       94,363   \n",
       "4         ₹399                 61%    4.2       16,905   \n",
       "\n",
       "                                       about_product  \\\n",
       "0  High Compatibility : Compatible With iPhone 12...   \n",
       "1  Compatible with all Type C enabled devices, be...   \n",
       "2  【 Fast Charger& Data Sync】-With built-in safet...   \n",
       "3  The boAt Deuce USB 300 2 in 1 cable is compati...   \n",
       "4  [CHARGE & SYNC FUNCTION]- This cable comes wit...   \n",
       "\n",
       "                                             user_id  \\\n",
       "0  AG3D6O4STAQKAY2UVGEUV46KN35Q,AHMY5CWJMMK5BJRBB...   \n",
       "1  AECPFYFQVRUWC3KGNLJIOREFP5LQ,AGYYVPDD7YG7FYNBX...   \n",
       "2  AGU3BBQ2V2DDAMOAKGFAWDDQ6QHA,AESFLDV2PT363T2AQ...   \n",
       "3  AEWAZDZZJLQUYVOVGBEUKSLXHQ5A,AG5HTSFRRE6NL3M5S...   \n",
       "4  AE3Q6KSUK5P75D5HFYHCRAOLODSA,AFUGIFH5ZAFXRDSZH...   \n",
       "\n",
       "                                           user_name  \\\n",
       "0  Manav,Adarsh gupta,Sundeep,S.Sayeed Ahmed,jasp...   \n",
       "1  ArdKn,Nirbhay kumar,Sagar Viswanathan,Asp,Plac...   \n",
       "2  Kunal,Himanshu,viswanath,sai niharka,saqib mal...   \n",
       "3  Omkar dhale,JD,HEMALATHA,Ajwadh a.,amar singh ...   \n",
       "4  rahuls6099,Swasat Borah,Ajay Wadke,Pranali,RVK...   \n",
       "\n",
       "                                           review_id  \\\n",
       "0  R3HXWT0LRP0NMF,R2AJM3LFTLZHFO,R6AQJGUP6P86,R1K...   \n",
       "1  RGIQEG07R9HS2,R1SMWZQ86XIN8U,R2J3Y1WL29GWDE,RY...   \n",
       "2  R3J3EQQ9TZI5ZJ,R3E7WBGK7ID0KV,RWU79XKQ6I1QF,R2...   \n",
       "3  R3EEUZKKK9J36I,R3HJVYCLYOY554,REDECAZ7AMPQC,R1...   \n",
       "4  R1BP4L2HH9TFUP,R16PVJEXKV6QZS,R2UPDB81N66T4P,R...   \n",
       "\n",
       "                                        review_title  \\\n",
       "0  Satisfied,Charging is really fast,Value for mo...   \n",
       "1  A Good Braided Cable for Your Type C Device,Go...   \n",
       "2  Good speed for earlier versions,Good Product,W...   \n",
       "3  Good product,Good one,Nice,Really nice product...   \n",
       "4  As good as original,Decent,Good one for second...   \n",
       "\n",
       "                                      review_content  \\\n",
       "0  Looks durable Charging is fine tooNo complains...   \n",
       "1  I ordered this cable to connect my phone to An...   \n",
       "2  Not quite durable and sturdy,https://m.media-a...   \n",
       "3  Good product,long wire,Charges good,Nice,I bou...   \n",
       "4  Bought this instead of original apple, does th...   \n",
       "\n",
       "                                            img_link  \\\n",
       "0  https://m.media-amazon.com/images/W/WEBP_40237...   \n",
       "1  https://m.media-amazon.com/images/W/WEBP_40237...   \n",
       "2  https://m.media-amazon.com/images/W/WEBP_40237...   \n",
       "3  https://m.media-amazon.com/images/I/41V5FtEWPk...   \n",
       "4  https://m.media-amazon.com/images/W/WEBP_40237...   \n",
       "\n",
       "                                        product_link  \n",
       "0  https://www.amazon.in/Wayona-Braided-WN3LG1-Sy...  \n",
       "1  https://www.amazon.in/Ambrane-Unbreakable-Char...  \n",
       "2  https://www.amazon.in/Sounce-iPhone-Charging-C...  \n",
       "3  https://www.amazon.in/Deuce-300-Resistant-Tang...  \n",
       "4  https://www.amazon.in/Portronics-Konnect-POR-1...  "
      ]
     },
     "execution_count": 301,
     "metadata": {},
     "output_type": "execute_result"
    }
   ],
   "source": [
    "df = pd.read_csv(\"amazon.csv\")\n",
    "print(\"these are the features: \", df.keys())\n",
    "print(\"this is the shape of the model: \", df.shape)\n",
    "df.head()"
   ]
  },
  {
   "cell_type": "code",
   "execution_count": 302,
   "metadata": {},
   "outputs": [
    {
     "data": {
      "text/plain": [
       "product_id             0\n",
       "product_name           0\n",
       "category               0\n",
       "discounted_price       0\n",
       "actual_price           0\n",
       "discount_percentage    0\n",
       "rating                 0\n",
       "rating_count           2\n",
       "about_product          0\n",
       "user_id                0\n",
       "user_name              0\n",
       "review_id              0\n",
       "review_title           0\n",
       "review_content         0\n",
       "img_link               0\n",
       "product_link           0\n",
       "dtype: int64"
      ]
     },
     "execution_count": 302,
     "metadata": {},
     "output_type": "execute_result"
    }
   ],
   "source": [
    "df.isnull().sum()\n",
    "# "
   ]
  },
  {
   "cell_type": "code",
   "execution_count": 303,
   "metadata": {},
   "outputs": [
    {
     "name": "stdout",
     "output_type": "stream",
     "text": [
      "      product_id                                       product_name  \\\n",
      "1279  B08L12N5H1  Eureka Forbes car Vac 100 Watts Powerful Sucti...   \n",
      "\n",
      "                                               category discounted_price  \\\n",
      "1279  Home&Kitchen|Kitchen&HomeAppliances|Vacuum,Cle...           ₹2,099   \n",
      "\n",
      "     actual_price discount_percentage rating rating_count  \\\n",
      "1279       ₹2,499                 16%      |          992   \n",
      "\n",
      "                                          about_product  \\\n",
      "1279  No Installation is provided for this product|1...   \n",
      "\n",
      "                                                user_id  \\\n",
      "1279  AGTDSNT2FKVYEPDPXAA673AIS44A,AER2XFSWNN4LAUCJ5...   \n",
      "\n",
      "                                              user_name  \\\n",
      "1279  Divya,Dr Nefario,Deekshith,Preeti,Prasanth R,P...   \n",
      "\n",
      "                                              review_id  \\\n",
      "1279  R2KKTKM4M9RDVJ,R1O692MZOBTE79,R2WRSEWL56SOS4,R...   \n",
      "\n",
      "                                           review_title  \\\n",
      "1279  Decent product,doesn't pick up sand,Ok ok,Must...   \n",
      "\n",
      "                                         review_content  \\\n",
      "1279  Does the job well,doesn't work on sand. though...   \n",
      "\n",
      "                                               img_link  \\\n",
      "1279  https://m.media-amazon.com/images/W/WEBP_40237...   \n",
      "\n",
      "                                           product_link  \n",
      "1279  https://www.amazon.in/Eureka-Forbes-Vacuum-Cle...  \n"
     ]
    }
   ],
   "source": [
    "print(df[df['rating'] == '|'])\n",
    "df.drop(df[df['rating'] == '|'].index, inplace=True)"
   ]
  },
  {
   "cell_type": "code",
   "execution_count": 304,
   "metadata": {},
   "outputs": [
    {
     "name": "stdout",
     "output_type": "stream",
     "text": [
      "rating\n",
      "2        1\n",
      "2.3      1\n",
      "2.6      1\n",
      "2.8      2\n",
      "2.9      1\n",
      "3        1\n",
      "3.0      3\n",
      "3.1      4\n",
      "3.2      2\n",
      "3.3     16\n",
      "3.4     10\n",
      "3.5     26\n",
      "3.6     35\n",
      "3.7     42\n",
      "3.8     86\n",
      "3.9    123\n",
      "4       52\n",
      "4.0    129\n",
      "4.1    244\n",
      "4.2    228\n",
      "4.3    230\n",
      "4.4    123\n",
      "4.5     75\n",
      "4.6     17\n",
      "4.7      6\n",
      "4.8      3\n",
      "5.0      3\n",
      "Name: count, dtype: int64\n"
     ]
    },
    {
     "data": {
      "image/png": "[encoded data removed]",
      "text/plain": [
       "<Figure size 640x480 with 1 Axes>"
      ]
     },
     "metadata": {},
     "output_type": "display_data"
    }
   ],
   "source": [
    "print(df[\"rating\"].value_counts().sort_index())\n",
    "sns.countplot(x=\"rating\", data=df)\n",
    "plt.title(\"rating distribution\")\n",
    "plt.show()"
   ]
  },
  {
   "cell_type": "markdown",
   "metadata": {},
   "source": [
    "3) Data manipulation"
   ]
  },
  {
   "cell_type": "code",
   "execution_count": 305,
   "metadata": {},
   "outputs": [
    {
     "name": "stdout",
     "output_type": "stream",
     "text": [
      "sentiment\n",
      "neutral     653\n",
      "positive    457\n",
      "negitive    354\n",
      "Name: count, dtype: int64\n"
     ]
    }
   ],
   "source": [
    "# sentiment labelling\n",
    "def label_sentiments(rating):\n",
    "    rating = float(rating)\n",
    "    if rating > 4.2:\n",
    "        return \"positive\"\n",
    "    elif rating <= 4.2  and rating >= 4:\n",
    "        return \"neutral\"\n",
    "    else:\n",
    "        return \"negitive\"\n",
    "\n",
    "df[\"sentiment\"] = df[\"rating\"].apply(label_sentiments)\n",
    "print(df[\"sentiment\"].value_counts())"
   ]
  },
  {
   "cell_type": "code",
   "execution_count": 306,
   "metadata": {},
   "outputs": [
    {
     "name": "stdout",
     "output_type": "stream",
     "text": [
      "<class 'pandas.core.frame.DataFrame'>\n",
      "Index: 1464 entries, 0 to 1464\n",
      "Data columns (total 17 columns):\n",
      " #   Column               Non-Null Count  Dtype \n",
      "---  ------               --------------  ----- \n",
      " 0   product_id           1464 non-null   object\n",
      " 1   product_name         1464 non-null   object\n",
      " 2   category             1464 non-null   object\n",
      " 3   discounted_price     1464 non-null   object\n",
      " 4   actual_price         1464 non-null   object\n",
      " 5   discount_percentage  1464 non-null   object\n",
      " 6   rating               1464 non-null   object\n",
      " 7   rating_count         1462 non-null   object\n",
      " 8   about_product        1464 non-null   object\n",
      " 9   user_id              1464 non-null   object\n",
      " 10  user_name            1464 non-null   object\n",
      " 11  review_id            1464 non-null   object\n",
      " 12  review_title         1464 non-null   object\n",
      " 13  review_content       1464 non-null   object\n",
      " 14  img_link             1464 non-null   object\n",
      " 15  product_link         1464 non-null   object\n",
      " 16  sentiment            1464 non-null   object\n",
      "dtypes: object(17)\n",
      "memory usage: 205.9+ KB\n"
     ]
    }
   ],
   "source": [
    "df.info()"
   ]
  },
  {
   "cell_type": "code",
   "execution_count": 307,
   "metadata": {},
   "outputs": [
    {
     "name": "stdout",
     "output_type": "stream",
     "text": [
      "1464 154\n"
     ]
    }
   ],
   "source": [
    "# text preprocessing for word2vec\n",
    "texts= df['review_title'] +  ' ' + df['review_content'] + ' ' + df['about_product'] + ' ' +  df['discounted_price'] + ' ' +  df['discount_percentage']  + ' ' + df['rating'] +  ' ' +  df['actual_price'] + ' ' + df['rating_count'] \n",
    "\n",
    "stop_words = set(stopwords.words(\"english\"))\n",
    "english_words = set(words.words())\n",
    "lemmatizer = WordNetLemmatizer()\n",
    "\n",
    "def text_preprocess_word2vec(text):\n",
    "    if type(text) != str:\n",
    "        text = str(text)\n",
    "    text = text.lower()\n",
    "    tokens = word_tokenize(text)\n",
    "    lemmatized_tokens = [lemmatizer.lemmatize(word) for word in tokens if word.isalnum() and word not in stop_words and word in english_words]\n",
    "    return lemmatized_tokens\n",
    "\n",
    "preprocessed_texts = [text_preprocess_word2vec(text) for text in texts]\n",
    "\n",
    "print(len(preprocessed_texts), len(preprocessed_texts[1]))"
   ]
  },
  {
   "cell_type": "code",
   "execution_count": 308,
   "metadata": {},
   "outputs": [],
   "source": [
    "# text preprocessing for tfidf\n",
    "def text_preprocess_tfidf(text):\n",
    "    text = text.lower()\n",
    "    tokens = word_tokenize(text)\n",
    "    tokens = [lemmatizer.lemmatize(word) for word in tokens if word.isalpha() and word not in stop_words]\n",
    "    return ' '.join(word for word in text.split() if word.lower() in english_words)\n",
    "\n",
    "df[\"review_content\"] = df[\"review_content\"].apply(text_preprocess_tfidf)\n",
    "df['about_product'] = df['about_product'].apply(text_preprocess_tfidf)\n",
    "df['review_title'] = df['review_title'].apply(text_preprocess_tfidf)\n",
    "df['cleaned_data'] = df['review_title'] + ' ' + df['review_content'] + ' ' + df['about_product']"
   ]
  },
  {
   "cell_type": "code",
   "execution_count": 309,
   "metadata": {},
   "outputs": [
    {
     "name": "stderr",
     "output_type": "stream",
     "text": [
      "C:\\Users\\shiva\\AppData\\Local\\Temp\\ipykernel_15820\\382236745.py:5: FutureWarning: A value is trying to be set on a copy of a DataFrame or Series through chained assignment using an inplace method.\n",
      "The behavior will change in pandas 3.0. This inplace method will never work because the intermediate object on which we are setting values always behaves as a copy.\n",
      "\n",
      "For example, when doing 'df[col].method(value, inplace=True)', try using 'df.method({col: value}, inplace=True)' or df[col] = df[col].method(value) instead, to perform the operation inplace on the original object.\n",
      "\n",
      "\n",
      "  df[\"rating_count\"].fillna(df[\"rating_count\"].median(), inplace=True)\n"
     ]
    }
   ],
   "source": [
    "for col in ['discounted_price', 'discount_percentage', 'rating', 'rating_count', 'actual_price']:\n",
    "    df[col] = df[col].astype(str).str.replace(r'[$₹,%]', '', regex=True)\n",
    "    df[col] = pd.to_numeric(df[col], errors='coerce') \n",
    "\n",
    "df[\"rating_count\"].fillna(df[\"rating_count\"].median(), inplace=True)  "
   ]
  },
  {
   "cell_type": "markdown",
   "metadata": {},
   "source": [
    "4) training ML model & text vectorization"
   ]
  },
  {
   "cell_type": "code",
   "execution_count": 310,
   "metadata": {},
   "outputs": [
    {
     "name": "stdout",
     "output_type": "stream",
     "text": [
      "['aa' 'able' 'able to' ... 'your you' 'yourself' 'zero']\n"
     ]
    }
   ],
   "source": [
    "X = df['cleaned_data']\n",
    "y = df['sentiment']\n",
    "X_train, X_test, y_train, y_test = train_test_split(X, y, test_size=0.2, random_state=42)\n",
    "numerical_features = df[['discounted_price', 'discount_percentage', 'rating', 'rating_count', 'actual_price']]\n",
    "num_train, num_test = train_test_split(numerical_features, test_size=0.2, random_state=42)\n",
    "\n",
    "\n",
    "tfidf = TfidfVectorizer(max_features=5000, ngram_range=(1,9), sublinear_tf=True)\n",
    "X_train_tfidf = tfidf.fit_transform(X_train)\n",
    "X_test_tfidf = tfidf.transform(X_test)\n",
    "\n",
    "X_train_tfidf = hstack([X_train_tfidf, num_train.values])\n",
    "X_test_tfidf = hstack([X_test_tfidf, num_test.values])\n",
    "\n",
    "\n",
    "scaler = MaxAbsScaler()\n",
    "X_train_tfidf = scaler.fit_transform(X_train_tfidf)\n",
    "X_test_tfidf = scaler.transform(X_test_tfidf)\n",
    "\n",
    "print(tfidf.get_feature_names_out()) "
   ]
  },
  {
   "cell_type": "code",
   "execution_count": 311,
   "metadata": {},
   "outputs": [
    {
     "name": "stdout",
     "output_type": "stream",
     "text": [
      "The accuracy given by naive bayes is:  0.5119453924914675\n",
      "\n",
      "               precision    recall  f1-score   support\n",
      "\n",
      "    negitive       0.43      0.76      0.55        74\n",
      "     neutral       0.55      0.38      0.45       124\n",
      "    positive       0.61      0.49      0.55        95\n",
      "\n",
      "    accuracy                           0.51       293\n",
      "   macro avg       0.53      0.54      0.51       293\n",
      "weighted avg       0.54      0.51      0.51       293\n",
      "\n",
      "\n",
      " [[56 14  4]\n",
      " [51 47 26]\n",
      " [24 24 47]]\n"
     ]
    }
   ],
   "source": [
    "# naive bayes\n",
    "nb_model1 = MultinomialNB()\n",
    "nb_model1.fit(X_train_tfidf, y_train)\n",
    "y_pred_nb = nb_model1.predict(X_test_tfidf)\n",
    "\n",
    "print(\"The accuracy given by naive bayes is: \", accuracy_score(y_test, y_pred_nb))\n",
    "print('\\n',classification_report(y_test, y_pred_nb))\n",
    "print('\\n', confusion_matrix(y_test, y_pred_nb))"
   ]
  },
  {
   "cell_type": "code",
   "execution_count": 312,
   "metadata": {},
   "outputs": [
    {
     "name": "stdout",
     "output_type": "stream",
     "text": [
      "the accuracy score using logistic regression is:  0.621160409556314\n",
      "\n",
      "               precision    recall  f1-score   support\n",
      "\n",
      "    negitive       0.71      0.54      0.62        74\n",
      "     neutral       0.57      0.74      0.64       124\n",
      "    positive       0.67      0.53      0.59        95\n",
      "\n",
      "    accuracy                           0.62       293\n",
      "   macro avg       0.65      0.60      0.62       293\n",
      "weighted avg       0.64      0.62      0.62       293\n",
      "\n",
      "\n",
      " [[40 28  6]\n",
      " [13 92 19]\n",
      " [ 3 42 50]]\n"
     ]
    }
   ],
   "source": [
    "# logistic regression\n",
    "LR_model1 = LogisticRegression(max_iter=100)\n",
    "LR_model1.fit(X_train_tfidf, y_train)\n",
    "y_pred_LR = LR_model1.predict(X_test_tfidf)\n",
    "\n",
    "print(\"the accuracy score using logistic regression is: \", accuracy_score(y_test, y_pred_LR))\n",
    "print('\\n',classification_report(y_test, y_pred_LR))\n",
    "print('\\n', confusion_matrix(y_test, y_pred_LR))"
   ]
  },
  {
   "cell_type": "code",
   "execution_count": 313,
   "metadata": {},
   "outputs": [
    {
     "name": "stdout",
     "output_type": "stream",
     "text": [
      "the accuracy score using support vector classifier is:  0.6484641638225256\n",
      "\n",
      "               precision    recall  f1-score   support\n",
      "\n",
      "    negitive       0.67      0.59      0.63        74\n",
      "     neutral       0.62      0.75      0.68       124\n",
      "    positive       0.70      0.56      0.62        95\n",
      "\n",
      "    accuracy                           0.65       293\n",
      "   macro avg       0.66      0.63      0.64       293\n",
      "weighted avg       0.66      0.65      0.65       293\n",
      "\n",
      "\n",
      " [[44 25  5]\n",
      " [13 93 18]\n",
      " [ 9 33 53]]\n"
     ]
    }
   ],
   "source": [
    "# support vector classifier\n",
    "svc_model1 = SVC(kernel='linear')\n",
    "svc_model1.fit(X_train_tfidf, y_train)\n",
    "y_pred_svc = svc_model1.predict(X_test_tfidf)\n",
    "\n",
    "print(\"the accuracy score using support vector classifier is: \", accuracy_score(y_test, y_pred_svc))\n",
    "print('\\n',classification_report(y_test, y_pred_svc))\n",
    "print('\\n', confusion_matrix(y_test, y_pred_svc))"
   ]
  },
  {
   "cell_type": "markdown",
   "metadata": {},
   "source": [
    "5) Training Word2Vec model"
   ]
  },
  {
   "cell_type": "code",
   "execution_count": 314,
   "metadata": {},
   "outputs": [
    {
     "name": "stdout",
     "output_type": "stream",
     "text": [
      "293\n",
      "1171\n"
     ]
    }
   ],
   "source": [
    "# Train the Word2Vec model\n",
    "wv_model = Word2Vec(sentences=preprocessed_texts, vector_size=1000, window=5, min_count=1, workers=-1)\n",
    "wv_model.save(\"word2vec.model\")     # Save the model for later use\n",
    "\n",
    "def average_word_vectors(text, model):\n",
    "    words = text_preprocess_word2vec(text)\n",
    "    vectors = [wv_model.wv[word] for word in words if word in wv_model.wv]\n",
    "    if not vectors:\n",
    "        return np.zeros(model.vector_size)  # Return a zero vector if no words are found\n",
    "    return np.mean(vectors, axis=0)\n",
    "\n",
    "# Create average word vectors for all texts\n",
    "average_vectors = np.array([average_word_vectors(text, wv_model) for text in texts])\n",
    "\n",
    "# Assuming you have a 'label' column in your DataFrame for sentiment\n",
    "y = df[\"sentiment\"]  # Adjust according to your dataset\n",
    "X_train, X_test, y_train, y_test = train_test_split(average_vectors, y, test_size=0.2, random_state=0)\n",
    "\n",
    "scaler = MinMaxScaler()\n",
    "X_train = scaler.fit_transform(X_train)\n",
    "X_test = scaler.transform(X_test)\n",
    "\n",
    "print(len(X_test))\n",
    "print(len(X_train))"
   ]
  },
  {
   "cell_type": "code",
   "execution_count": 315,
   "metadata": {},
   "outputs": [
    {
     "name": "stdout",
     "output_type": "stream",
     "text": [
      "Best parameters for LR: LogisticRegression(C=0.1, max_iter=600, solver='newton-cg')\n",
      "the accuracy score using logistic regression is:  0.5938566552901023\n",
      "\n",
      "               precision    recall  f1-score   support\n",
      "\n",
      "    negitive       0.60      0.37      0.46        78\n",
      "     neutral       0.61      0.74      0.67       137\n",
      "    positive       0.56      0.56      0.56        78\n",
      "\n",
      "    accuracy                           0.59       293\n",
      "   macro avg       0.59      0.56      0.56       293\n",
      "weighted avg       0.59      0.59      0.58       293\n",
      "\n",
      "\n",
      " [[ 29  34  15]\n",
      " [ 16 101  20]\n",
      " [  3  31  44]]\n"
     ]
    },
    {
     "name": "stderr",
     "output_type": "stream",
     "text": [
      "C:\\Users\\shiva\\AppData\\Roaming\\Python\\Python312\\site-packages\\sklearn\\linear_model\\_logistic.py:469: ConvergenceWarning: lbfgs failed to converge (status=1):\n",
      "STOP: TOTAL NO. of ITERATIONS REACHED LIMIT.\n",
      "\n",
      "Increase the number of iterations (max_iter) or scale the data as shown in:\n",
      "    https://scikit-learn.org/stable/modules/preprocessing.html\n",
      "Please also refer to the documentation for alternative solver options:\n",
      "    https://scikit-learn.org/stable/modules/linear_model.html#logistic-regression\n",
      "  n_iter_i = _check_optimize_result(\n"
     ]
    }
   ],
   "source": [
    "# logistic regression\n",
    "LR_model2 = LogisticRegression()\n",
    "lr_params = {\n",
    "    'C': [0.1],\n",
    "    'solver': ['newton-cg'],\n",
    "    'max_iter': [600]\n",
    "}\n",
    "\n",
    "grid_search_lr = GridSearchCV(estimator=LR_model2, param_grid=lr_params, scoring='accuracy', cv=5)\n",
    "grid_search_lr.fit(X_train, y_train)\n",
    "best_lr = grid_search_lr.best_estimator_\n",
    "print(\"Best parameters for LR:\", best_lr)\n",
    "\n",
    "LR_model2.fit(X_train, y_train)\n",
    "y_pred_LR = LR_model2.predict(X_test)\n",
    "\n",
    "print(\"the accuracy score using logistic regression is: \", accuracy_score(y_test, y_pred_LR))\n",
    "print('\\n',classification_report(y_test, y_pred_LR))\n",
    "print('\\n', confusion_matrix(y_test, y_pred_LR))"
   ]
  },
  {
   "cell_type": "code",
   "execution_count": 316,
   "metadata": {},
   "outputs": [
    {
     "name": "stdout",
     "output_type": "stream",
     "text": [
      "Best parameters for SVC: {'C': 100, 'gamma': 'scale', 'kernel': 'rbf'}\n",
      "the accuracy score using support vector classifier is:  0.5767918088737202\n",
      "\n",
      "               precision    recall  f1-score   support\n",
      "\n",
      "    negitive       0.75      0.12      0.20        78\n",
      "     neutral       0.53      0.97      0.69       137\n",
      "    positive       0.87      0.35      0.50        78\n",
      "\n",
      "    accuracy                           0.58       293\n",
      "   macro avg       0.72      0.48      0.46       293\n",
      "weighted avg       0.68      0.58      0.51       293\n",
      "\n",
      "\n",
      " [[  9  68   1]\n",
      " [  1 133   3]\n",
      " [  2  49  27]]\n"
     ]
    }
   ],
   "source": [
    "# Support Vector Classifier\n",
    "svc_model2 = SVC()\n",
    "svc_params = {\n",
    "    'C': [100, 200, 300, 350, 400],\n",
    "    'kernel': ['linear', 'rbf', 'poly'],\n",
    "    'gamma': ['scale', 'auto']\n",
    "}\n",
    "grid_search_svc = GridSearchCV(estimator=svc_model2, param_grid=svc_params, scoring='accuracy', cv=8)\n",
    "grid_search_svc.fit(X_train, y_train)\n",
    "print(\"Best parameters for SVC:\", grid_search_svc.best_params_)\n",
    "best_svc = grid_search_svc.best_estimator_\n",
    "\n",
    "\n",
    "svc_model2.fit(X_train, y_train)\n",
    "y_pred_svc = svc_model2.predict(X_test)\n",
    "\n",
    "print(\"the accuracy score using support vector classifier is: \", accuracy_score(y_test, y_pred_svc))\n",
    "print('\\n',classification_report(y_test, y_pred_svc))\n",
    "print('\\n', confusion_matrix(y_test, y_pred_svc))"
   ]
  }
 ],
 "metadata": {
  "kernelspec": {
   "display_name": "Python 3",
   "language": "python",
   "name": "python3"
  },
  "language_info": {
   "codemirror_mode": {
    "name": "ipython",
    "version": 3
   },
   "file_extension": ".py",
   "mimetype": "text/x-python",
   "name": "python",
   "nbconvert_exporter": "python",
   "pygments_lexer": "ipython3",
   "version": "3.12.3"
  }
 },
 "nbformat": 4,
 "nbformat_minor": 2
}
